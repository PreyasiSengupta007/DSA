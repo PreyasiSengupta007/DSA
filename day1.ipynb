{
  "nbformat": 4,
  "nbformat_minor": 0,
  "metadata": {
    "colab": {
      "provenance": [],
      "authorship_tag": "ABX9TyOp5GulLgRdGi3gsNDOreNL",
      "include_colab_link": true
    },
    "kernelspec": {
      "name": "python3",
      "display_name": "Python 3"
    },
    "language_info": {
      "name": "python"
    }
  },
  "cells": [
    {
      "cell_type": "markdown",
      "metadata": {
        "id": "view-in-github",
        "colab_type": "text"
      },
      "source": [
        "<a href=\"https://colab.research.google.com/github/PreyasiSengupta007/DSA/blob/main/day1.ipynb\" target=\"_parent\"><img src=\"https://colab.research.google.com/assets/colab-badge.svg\" alt=\"Open In Colab\"/></a>"
      ]
    },
    {
      "cell_type": "code",
      "execution_count": 9,
      "metadata": {
        "colab": {
          "base_uri": "https://localhost:8080/"
        },
        "id": "zSz6ADJFM72O",
        "outputId": "ddd22154-e822-42a8-f893-0e53c5535e94"
      },
      "outputs": [
        {
          "output_type": "stream",
          "name": "stdout",
          "text": [
            "Preyasi Sengupta\n",
            "STUDENT(UG FINAL YEAR)preyasi.sengupta007@gmail.com\n",
            "+918240164442\n",
            "Kolkata,India\n",
            "linkedin.com/in/preyasi-s-2706a698\n",
            "SUMMARY An aspiring software developer skilled in various technologies like Machine\n",
            "Learning,Cloud Computing,IOT and a good problem solver.\n",
            "SKILLS Database\n",
            "Management System\n",
            "Big Data\n",
            "Operating SystemsData Structure and\n",
            "Algorithms\n",
            "Python\n",
            "OOPS\n",
            "Problem Solving\n",
            "EXPERIENCE\n",
            "Amazon ML Summer School Jun 2022 -Aug 2022Trainee\n",
            "Interacted with some bright minds and got to learn about various Machine Learning\n",
            "and data analysis techniques.\n",
            "PROJECTS\n",
            "SelfDiabetes Prediction Web App\n",
            "Made a machine learning model which achieved 90% accuracy.Deployed using\n",
            "Streamlit.\n",
            "SelfSorting Algorithm Visualizer\n",
            "Made using Python and Tkinter.Visualized Bubble sort and Merge Sort.\n",
            "Group(Ongoing)Human Activity Recognition with IOT\n",
            "Currently working on human activity recognition using MEMS Gyroscope and\n",
            "Accelerometer.Planning to feed real time data into ML model.\n",
            "EDUCATION\n",
            "Heritage Institute of Technology Kolkata Jul 2019 -PresentBachelor of Technology\n",
            "Current CGPA : 8.7 (Upto 6th Sem)\n",
            "Coursework : IOT,Data structute and Algorithms,Operating Systems,Cloud\n",
            "Computing,Sensors.\n",
            "LANGUAGES English Bengali\n",
            "AWARDS\n",
            "HackerrankHackerrank Problem Solving\n",
            "TVS CreditsTVS E.P.I.C Hackathon\n",
            "Semi Finalist\n",
            "www.resumekraft.com\n"
          ]
        }
      ],
      "source": [
        "import PyPDF2\n",
        "pdf_file=open('My Resume.pdf','rb')\n",
        "pdf_reader=PyPDF2.PdfReader(pdf_file)\n",
        "num_pages=len(pdf_reader.pages)\n",
        "for i in range(num_pages):\n",
        "  page_obj=pdf_reader.pages[i]\n",
        "  page_text=page_obj.extract_text()\n",
        "pdf_file.close()\n",
        "print(page_text)  "
      ]
    },
    {
      "cell_type": "code",
      "source": [
        "!pip install PyPDF2"
      ],
      "metadata": {
        "colab": {
          "base_uri": "https://localhost:8080/"
        },
        "id": "nGSoz3OrORwo",
        "outputId": "b72d0a02-56c0-461c-f3b1-2b76339f21b2"
      },
      "execution_count": 2,
      "outputs": [
        {
          "output_type": "stream",
          "name": "stdout",
          "text": [
            "Looking in indexes: https://pypi.org/simple, https://us-python.pkg.dev/colab-wheels/public/simple/\n",
            "Collecting PyPDF2\n",
            "  Downloading pypdf2-3.0.1-py3-none-any.whl (232 kB)\n",
            "\u001b[2K     \u001b[90m━━━━━━━━━━━━━━━━━━━━━━━━━━━━━━━━━━━━━━━\u001b[0m \u001b[32m232.6/232.6 KB\u001b[0m \u001b[31m6.0 MB/s\u001b[0m eta \u001b[36m0:00:00\u001b[0m\n",
            "\u001b[?25hRequirement already satisfied: typing_extensions>=3.10.0.0 in /usr/local/lib/python3.9/dist-packages (from PyPDF2) (4.5.0)\n",
            "Installing collected packages: PyPDF2\n",
            "Successfully installed PyPDF2-3.0.1\n"
          ]
        }
      ]
    }
  ]
}